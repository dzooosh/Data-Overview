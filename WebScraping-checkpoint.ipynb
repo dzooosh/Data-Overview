{
 "cells": [
  {
   "cell_type": "code",
   "execution_count": 42,
   "metadata": {},
   "outputs": [],
   "source": [
    "from bs4 import BeautifulSoup as bs\n",
    "import requests\n",
    "import pandas as pd\n",
    "import time"
   ]
  },
  {
   "cell_type": "code",
   "execution_count": 43,
   "metadata": {},
   "outputs": [],
   "source": [
    "url = 'https://www.programmableweb.com/category/all/apis'"
   ]
  },
  {
   "cell_type": "code",
   "execution_count": null,
   "metadata": {},
   "outputs": [
    {
     "name": "stdout",
     "output_type": "stream",
     "text": [
      "after even= 13\n"
     ]
    }
   ],
   "source": [
    "api_value = {}\n",
    "api_no = 0\n",
    "\n",
    "while True:\n",
    "    response = requests.get(url)\n",
    "    data = response.text\n",
    "    soup = bs(data, 'html.parser')\n",
    "    \n",
    "    tr_even = soup.find_all('tr', {'class':'even'})\n",
    "    tr_odd = soup.find_all('tr', {'class':'odd'})\n",
    "    tr_first = soup.find_all('tr', {'class':'odd views-row-first'})\n",
    "    tr_last = soup.find_all('tr', {'class':'odd views-row-last'})\n",
    "    \n",
    "    for td in tr_first:\n",
    "        name = td.find('a').text\n",
    "        linktag = td.find('a').get('href')\n",
    "        link = 'https://www.programmableweb.com' + linktag\n",
    "        category = td.find_all('a')[1].text\n",
    "        res = requests.get(link)\n",
    "        despage = bs(res.text, 'html.parser')\n",
    "        destag = despage.find('div', {\"class\":\"api_description tabs-header_description\"})\n",
    "        des = destag.text if destag else 'N/A'\n",
    "        #print('API Name: ',name, '\\nAPI (absolute) URL: ', link, '\\nAPI Category: \\n', category, '\\nAPI Description: \\n', des)\n",
    "        api_no += 1\n",
    "        time.sleep(1)\n",
    "    for td in tr_even:\n",
    "        name = td.find('a').text\n",
    "        linktag = td.find('a').get('href')\n",
    "        link = 'https://www.programmableweb.com' + linktag\n",
    "        category = td.find_all('a')[1].text\n",
    "        res = requests.get(link)\n",
    "        despage = bs(res.text, 'html.parser')\n",
    "        destag = despage.find('div', {\"class\":\"api_description tabs-header_description\"})\n",
    "        des = destag.text if destag else 'N/A'\n",
    "        #print('API Name: ',name, '\\nAPI (absolute) URL: ', link, '\\nAPI Category: \\n', category, '\\nAPI Description: \\n', des)\n",
    "        api_no += 1\n",
    "        time.sleep(1)\n",
    "    print('after even=', api_no)\n",
    "    for td in tr_odd:\n",
    "        name = td.find('a').text\n",
    "        linktag = td.find('a').get('href')\n",
    "        link = 'https://www.programmableweb.com' + linktag\n",
    "        category = td.find_all('a')[1].text\n",
    "        res = requests.get(link)\n",
    "        despage = bs(res.text, 'html.parser')\n",
    "        destag = despage.find('div', {\"class\":\"api_description tabs-header_description\"})\n",
    "        des = destag.text if destag else 'N/A'\n",
    "        #print('API Name: ',name, '\\nAPI (absolute) URL: ', link, '\\nAPI Category: \\n', category, '\\nAPI Description: \\n', des)\n",
    "        api_no += 1\n",
    "    print('after odd= ', api_no)\n",
    "    for td in tr_last:\n",
    "        name = td.find('a').text\n",
    "        linktag = td.find('a').get('href')\n",
    "        link = 'https://www.programmableweb.com' + linktag\n",
    "        category = td.find_all('a')[1].text\n",
    "        res = requests.get(link)\n",
    "        despage = bs(res.text, 'html.parser')\n",
    "        destag = despage.find('div', {\"class\":\"api_description tabs-header_description\"})\n",
    "        des = destag.text if destag else 'N/A'\n",
    "        #print('API Name: ',name, '\\nAPI (absolute) URL: ', link, '\\nAPI Category: \\n', category, '\\nAPI Description: \\n', des)\n",
    "        api_no += 1\n",
    "    print('Total =', api_no)\n",
    "    \n",
    "    "
   ]
  },
  {
   "cell_type": "code",
   "execution_count": null,
   "metadata": {},
   "outputs": [],
   "source": [
    "soup"
   ]
  },
  {
   "cell_type": "code",
   "execution_count": 49,
   "metadata": {},
   "outputs": [
    {
     "name": "stdout",
     "output_type": "stream",
     "text": [
      "none\n"
     ]
    }
   ],
   "source": []
  },
  {
   "cell_type": "code",
   "execution_count": 10,
   "metadata": {},
   "outputs": [],
   "source": []
  },
  {
   "cell_type": "code",
   "execution_count": 9,
   "metadata": {},
   "outputs": [],
   "source": []
  },
  {
   "cell_type": "code",
   "execution_count": 32,
   "metadata": {},
   "outputs": [],
   "source": []
  },
  {
   "cell_type": "code",
   "execution_count": 34,
   "metadata": {},
   "outputs": [
    {
     "name": "stdout",
     "output_type": "stream",
     "text": [
      "41\n"
     ]
    }
   ],
   "source": []
  },
  {
   "cell_type": "code",
   "execution_count": 30,
   "metadata": {},
   "outputs": [],
   "source": []
  },
  {
   "cell_type": "code",
   "execution_count": 31,
   "metadata": {},
   "outputs": [],
   "source": []
  },
  {
   "cell_type": "code",
   "execution_count": null,
   "metadata": {},
   "outputs": [],
   "source": []
  }
 ],
 "metadata": {
  "kernelspec": {
   "display_name": "Python 3",
   "language": "python",
   "name": "python3"
  },
  "language_info": {
   "codemirror_mode": {
    "name": "ipython",
    "version": 3
   },
   "file_extension": ".py",
   "mimetype": "text/x-python",
   "name": "python",
   "nbconvert_exporter": "python",
   "pygments_lexer": "ipython3",
   "version": "3.7.3"
  }
 },
 "nbformat": 4,
 "nbformat_minor": 2
}
